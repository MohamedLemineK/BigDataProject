{
 "cells": [
  {
   "cell_type": "code",
   "execution_count": 0,
   "metadata": {
    "application/vnd.databricks.v1+cell": {
     "cellMetadata": {
      "byteLimit": 2048000,
      "rowLimit": 10000
     },
     "inputWidgets": {},
     "nuid": "01cf7c3d-948b-4fdf-a15b-4dc8a95663cf",
     "showTitle": false,
     "title": ""
    }
   },
   "outputs": [
    {
     "output_type": "stream",
     "name": "stdout",
     "output_type": "stream",
     "text": [
      "Requirement already satisfied: nltk in /databricks/python3/lib/python3.9/site-packages (3.7)\r\nRequirement already satisfied: tqdm in /databricks/python3/lib/python3.9/site-packages (from nltk) (4.64.0)\r\nRequirement already satisfied: click in /databricks/python3/lib/python3.9/site-packages (from nltk) (8.0.4)\r\nRequirement already satisfied: regex>=2021.8.3 in /databricks/python3/lib/python3.9/site-packages (from nltk) (2022.3.15)\r\nRequirement already satisfied: joblib in /databricks/python3/lib/python3.9/site-packages (from nltk) (1.1.1)\r\n\u001B[33mWARNING: You are using pip version 21.2.4; however, version 24.0 is available.\r\nYou should consider upgrading via the '/local_disk0/.ephemeral_nfs/envs/pythonEnv-04c8e94c-3d5e-4c92-a25b-1afc0c7a9a9f/bin/python -m pip install --upgrade pip' command.\u001B[0m\r\n"
     ]
    },
    {
     "output_type": "stream",
     "name": "stderr",
     "output_type": "stream",
     "text": [
      "[nltk_data] Downloading package stopwords to /root/nltk_data...\n[nltk_data]   Package stopwords is already up-to-date!\n"
     ]
    }
   ],
   "source": [
    "#!/usr/bin/env python\n",
    "# coding: utf-8\n",
    "\n",
    "# In[ ]:\n",
    "!pip install nltk\n",
    "\n",
    "import itertools\n",
    "import pandas as pd\n",
    "import string\n",
    "import nltk\n",
    "nltk.download('stopwords')\n",
    "from nltk.corpus import stopwords \n",
    "\n",
    "# Fonction permettant de rassembler les n mots les plus fréquents d'un fichier texte dans un seul dataframe\n",
    "\n",
    "def mostcommonwords(path,n):\n",
    "    file_location = path\n",
    "    rdd = sc.textFile(file_location)\n",
    "    # On récupère le contenu des fichiers texte\n",
    "    line = rdd.take\n",
    "    lines = rdd.collect()\n",
    "    words = []\n",
    "    # On sépare le texte en lignes\n",
    "    for stuff in lines:\n",
    "        words.append(stuff.split())\n",
    "    \n",
    "    words = list(itertools.chain.from_iterable(words))\n",
    "    # On sépare les lignes en mots pour ensuite créer le dataframe qui contiendra les mots et leur nombre d'occurences\n",
    "\n",
    "    dict = {'word':[],\n",
    "            'occurences':[]}\n",
    "    df_occurences = pd.DataFrame(dict)\n",
    "\n",
    "    # Tout d'abord, on assigne à tous les mots une occurence de 1\n",
    "    for word in words:\n",
    "        df_occurences.loc[len(df_occurences.index)] = [word, 1]\n",
    "\n",
    "    # Par la suite, on retire tous les symboles de ponctuation dans le dataframe \n",
    "    for thing in [*string.punctuation]:\n",
    "        df_occurences.drop(df_occurences[df_occurences['word']==thing].index, inplace = True)\n",
    "\n",
    "    # Enfin, on supprime les mots de liaison tels que 'the', 'an' ou encore 'and'. \n",
    "    # Pour l'instant, nous nous sommes limités aux textes en anglais\n",
    "    for bip in stopwords.words(\"english\"):\n",
    "        df_occurences.drop(df_occurences[df_occurences['word']==bip].index, inplace = True)\n",
    "\n",
    "    # Pour obtenir le nombre d'occurence de chaque mot unique, on regroupe les mots identiqus \n",
    "    # en sommant les occurences puis en les classant par ordre décroissant  \n",
    "    df_occurences = df_occurences.groupby(['word'],as_index=False).sum().sort_values(by=['occurences'], ascending=False)\n",
    "\n",
    "    # On ne récupère que les n mots les plus fréquents\n",
    "    df_occurences_top = df_occurences[:n]\n",
    "\n",
    "    # Enfin on réétablie l'index dont l'ordre a été perturbé par le shuffle and sort\n",
    "    df_occurences_top = df_occurences_top.set_index(pd.Index(range(n)))\n",
    "    \n",
    "    return df_occurences_top\n",
    "\n",
    "\n",
    "\n"
   ]
  },
  {
   "cell_type": "code",
   "execution_count": 0,
   "metadata": {
    "application/vnd.databricks.v1+cell": {
     "cellMetadata": {
      "byteLimit": 2048000,
      "rowLimit": 10000
     },
     "inputWidgets": {},
     "nuid": "d537f6d6-2ca2-4ca6-8801-bfe9e0e6e301",
     "showTitle": false,
     "title": ""
    }
   },
   "outputs": [],
   "source": [
    "\n",
    "\n",
    "# D'abord on assigne aux dataframes un nom correspondant à leur fichier d'origine\n",
    "def nomenclatura(frames, names):\n",
    "    i=0\n",
    "    for df in frames:\n",
    "        df.attrs['name']=names[i]\n",
    "        i+=1\n",
    "    return frames\n",
    "# On rassemble les noms des dataframes en comités. Les membres de chaque comités sont stockés dans un dictionnaire\n",
    "def gathering(frames):\n",
    "    i=1\n",
    "    d={}\n",
    "    for x in range(1,len(frames)+1):\n",
    "        d[\"Committee {0}\".format(x)] = []\n",
    "    for dfe in frames:\n",
    "        d['Committee '+str(i)].append(dfe.attrs['name'])\n",
    "        for dfco in frames:\n",
    "            comp = pd.merge(dfe,dfco,how='inner',on='word')\n",
    "            # Si parmi les 10 mots les plus fréquents 3 sont communs aux deux textes alors \n",
    "            # on considère que les textes apartiennent au même comité\n",
    "            if comp.shape[0]<dfco.shape[0] and comp.shape[0]>3:\n",
    "                d['Committee '+str(i)].append(dfco.attrs['name'])        \n",
    "        i+=1\n",
    "    return d\n",
    "\n"
   ]
  },
  {
   "cell_type": "code",
   "execution_count": 0,
   "metadata": {
    "application/vnd.databricks.v1+cell": {
     "cellMetadata": {
      "byteLimit": 2048000,
      "rowLimit": 10000
     },
     "inputWidgets": {},
     "nuid": "56afa72c-8d52-4c46-a4e2-41d17285e128",
     "showTitle": false,
     "title": ""
    }
   },
   "outputs": [],
   "source": [
    "# Une fois les comités établis, on crée des dossiers pour chaque comité où seront stockés les fichiers membres\n",
    "# Dans chaque dossier on copie les fichiers qui lui sont assignés\n",
    "\n",
    "def directorycreation(dictionnary,source,destination='/FileStore'):  \n",
    "    for i in range(1,len(dictionnary)+1):\n",
    "        dbutils.fs.mkdirs(destination+\"/Committee\"+str(i))\n",
    "        for frame in dictionnary['Committee '+str(i)]:            \n",
    "            dbutils.fs.cp(source+frame+\".txt\",destination+\"/Committee\"+str(i)+\"/\"+frame+\".txt\")   \n",
    "        i+=1\n",
    "    return 0\n",
    "           "
   ]
  },
  {
   "cell_type": "code",
   "execution_count": 0,
   "metadata": {
    "application/vnd.databricks.v1+cell": {
     "cellMetadata": {
      "byteLimit": 2048000,
      "rowLimit": 10000
     },
     "inputWidgets": {},
     "nuid": "e0d31736-3692-4cec-bf83-3af9e3cb6820",
     "showTitle": false,
     "title": ""
    }
   },
   "outputs": [
    {
     "output_type": "display_data",
     "data": {
      "text/html": [
       "<div>\n",
       "<style scoped>\n",
       "    .dataframe tbody tr th:only-of-type {\n",
       "        vertical-align: middle;\n",
       "    }\n",
       "\n",
       "    .dataframe tbody tr th {\n",
       "        vertical-align: top;\n",
       "    }\n",
       "\n",
       "    .dataframe thead th {\n",
       "        text-align: right;\n",
       "    }\n",
       "</style>\n",
       "<table border=\"1\" class=\"dataframe\">\n",
       "  <thead>\n",
       "    <tr style=\"text-align: right;\">\n",
       "      <th></th>\n",
       "      <th>word</th>\n",
       "      <th>occurences</th>\n",
       "    </tr>\n",
       "  </thead>\n",
       "  <tbody>\n",
       "    <tr>\n",
       "      <th>0</th>\n",
       "      <td>black</td>\n",
       "      <td>15</td>\n",
       "    </tr>\n",
       "    <tr>\n",
       "      <th>1</th>\n",
       "      <td>soldiers</td>\n",
       "      <td>13</td>\n",
       "    </tr>\n",
       "    <tr>\n",
       "      <th>2</th>\n",
       "      <td>shaw</td>\n",
       "      <td>12</td>\n",
       "    </tr>\n",
       "    <tr>\n",
       "      <th>3</th>\n",
       "      <td>glory</td>\n",
       "      <td>7</td>\n",
       "    </tr>\n",
       "    <tr>\n",
       "      <th>4</th>\n",
       "      <td>film</td>\n",
       "      <td>7</td>\n",
       "    </tr>\n",
       "    <tr>\n",
       "      <th>5</th>\n",
       "      <td>war</td>\n",
       "      <td>7</td>\n",
       "    </tr>\n",
       "    <tr>\n",
       "      <th>6</th>\n",
       "      <td>white</td>\n",
       "      <td>7</td>\n",
       "    </tr>\n",
       "    <tr>\n",
       "      <th>7</th>\n",
       "      <td>one</td>\n",
       "      <td>5</td>\n",
       "    </tr>\n",
       "    <tr>\n",
       "      <th>8</th>\n",
       "      <td>battle</td>\n",
       "      <td>5</td>\n",
       "    </tr>\n",
       "    <tr>\n",
       "      <th>9</th>\n",
       "      <td>washington</td>\n",
       "      <td>5</td>\n",
       "    </tr>\n",
       "    <tr>\n",
       "      <th>10</th>\n",
       "      <td>broderick</td>\n",
       "      <td>4</td>\n",
       "    </tr>\n",
       "  </tbody>\n",
       "</table>\n",
       "</div>"
      ]
     },
     "metadata": {
      "application/vnd.databricks.v1+output": {
       "addedWidgets": {},
       "arguments": {},
       "data": "<div>\n<style scoped>\n    .dataframe tbody tr th:only-of-type {\n        vertical-align: middle;\n    }\n\n    .dataframe tbody tr th {\n        vertical-align: top;\n    }\n\n    .dataframe thead th {\n        text-align: right;\n    }\n</style>\n<table border=\"1\" class=\"dataframe\">\n  <thead>\n    <tr style=\"text-align: right;\">\n      <th></th>\n      <th>word</th>\n      <th>occurences</th>\n    </tr>\n  </thead>\n  <tbody>\n    <tr>\n      <th>0</th>\n      <td>black</td>\n      <td>15</td>\n    </tr>\n    <tr>\n      <th>1</th>\n      <td>soldiers</td>\n      <td>13</td>\n    </tr>\n    <tr>\n      <th>2</th>\n      <td>shaw</td>\n      <td>12</td>\n    </tr>\n    <tr>\n      <th>3</th>\n      <td>glory</td>\n      <td>7</td>\n    </tr>\n    <tr>\n      <th>4</th>\n      <td>film</td>\n      <td>7</td>\n    </tr>\n    <tr>\n      <th>5</th>\n      <td>war</td>\n      <td>7</td>\n    </tr>\n    <tr>\n      <th>6</th>\n      <td>white</td>\n      <td>7</td>\n    </tr>\n    <tr>\n      <th>7</th>\n      <td>one</td>\n      <td>5</td>\n    </tr>\n    <tr>\n      <th>8</th>\n      <td>battle</td>\n      <td>5</td>\n    </tr>\n    <tr>\n      <th>9</th>\n      <td>washington</td>\n      <td>5</td>\n    </tr>\n    <tr>\n      <th>10</th>\n      <td>broderick</td>\n      <td>4</td>\n    </tr>\n  </tbody>\n</table>\n</div>",
       "datasetInfos": [],
       "metadata": {},
       "removedWidgets": [],
       "textData": null,
       "type": "htmlSandbox"
      }
     },
     "output_type": "display_data"
    }
   ],
   "source": [
    "# On applique la fonction à 6 fichiers text contenant des critiques de film en gardant le même nom que celui du texte \n",
    "\n",
    "cv994_12270 = mostcommonwords('FileStore/pos/cv994_12270.txt',11)\n",
    "cv995_21821 = mostcommonwords('FileStore/pos/cv995_21821.txt',11)\n",
    "cv996_11592 = mostcommonwords('FileStore/pos/cv996_11592.txt',11)\n",
    "cv997_5046 = mostcommonwords('FileStore/pos/cv997_5046.txt',11)\n",
    "cv998_14111 = mostcommonwords('FileStore/pos/cv998_14111.txt',11)\n",
    "cv999_13106 = mostcommonwords('FileStore/pos/cv999_13106.txt',11)\n",
    "\n",
    "cv997_5046.head(11)"
   ]
  },
  {
   "cell_type": "code",
   "execution_count": 0,
   "metadata": {
    "application/vnd.databricks.v1+cell": {
     "cellMetadata": {
      "byteLimit": 2048000,
      "rowLimit": 10000
     },
     "inputWidgets": {},
     "nuid": "61abaa75-e0f4-4f93-b26f-bf483a8cafd6",
     "showTitle": false,
     "title": ""
    }
   },
   "outputs": [
    {
     "output_type": "stream",
     "name": "stdout",
     "output_type": "stream",
     "text": [
      "{'Committee 1': ['cv994_12270', 'cv995_21821'], 'Committee 2': ['cv995_21821', 'cv994_12270'], 'Committee 3': ['cv996_11592'], 'Committee 4': ['cv997_5046', 'cv998_14111'], 'Committee 5': ['cv998_14111', 'cv997_5046'], 'Committee 6': ['cv999_13106']}\n"
     ]
    }
   ],
   "source": [
    "# Une fois les dataframes créés on peut les rassembler selon les similitudes  \n",
    "\n",
    "dataframes=[cv994_12270,cv995_21821,cv996_11592,cv997_5046,cv998_14111,cv999_13106]\n",
    "names=['cv994_12270','cv995_21821','cv996_11592','cv997_5046','cv998_14111','cv999_13106']\n",
    "\n",
    "# On assigne un nom à chaque dataframe\n",
    "dataframes = nomenclatura(dataframes,names)\n",
    "\n",
    "# On peut alors former les comités\n",
    "Committees = gathering(dataframes)\n",
    "\n",
    "# On place les fichiers dans leurs dossier respectifs \n",
    "directorycreation(Committees,source='/FileStore/pos/')  \n",
    "\n",
    "# On peut afficher ici le dictionnaire contenant la liste des membres de chaque comité\n",
    "print(Committees)"
   ]
  },
  {
   "cell_type": "code",
   "execution_count": 0,
   "metadata": {
    "application/vnd.databricks.v1+cell": {
     "cellMetadata": {
      "byteLimit": 2048000,
      "rowLimit": 10000
     },
     "inputWidgets": {},
     "nuid": "89270748-9f43-4a29-857f-1dc570a43efd",
     "showTitle": false,
     "title": ""
    }
   },
   "outputs": [
    {
     "output_type": "display_data",
     "data": {
      "text/html": [
       "<style scoped>\n",
       "  .table-result-container {\n",
       "    max-height: 300px;\n",
       "    overflow: auto;\n",
       "  }\n",
       "  table, th, td {\n",
       "    border: 1px solid black;\n",
       "    border-collapse: collapse;\n",
       "  }\n",
       "  th, td {\n",
       "    padding: 5px;\n",
       "  }\n",
       "  th {\n",
       "    text-align: left;\n",
       "  }\n",
       "</style><div class='table-result-container'><table class='table-result'><thead style='background-color: white'><tr><th>path</th><th>name</th><th>size</th><th>modificationTime</th></tr></thead><tbody><tr><td>dbfs:/FileStore/Committee2/cv994_12270.txt</td><td>cv994_12270.txt</td><td>2992</td><td>1715017608000</td></tr><tr><td>dbfs:/FileStore/Committee2/cv995_21821.txt</td><td>cv995_21821.txt</td><td>4241</td><td>1715017608000</td></tr></tbody></table></div>"
      ]
     },
     "metadata": {
      "application/vnd.databricks.v1+output": {
       "addedWidgets": {},
       "aggData": [],
       "aggError": "",
       "aggOverflow": false,
       "aggSchema": [],
       "aggSeriesLimitReached": false,
       "aggType": "",
       "arguments": {},
       "columnCustomDisplayInfos": {},
       "data": [
        [
         "dbfs:/FileStore/Committee2/cv994_12270.txt",
         "cv994_12270.txt",
         2992,
         1715017608000
        ],
        [
         "dbfs:/FileStore/Committee2/cv995_21821.txt",
         "cv995_21821.txt",
         4241,
         1715017608000
        ]
       ],
       "datasetInfos": [],
       "dbfsResultPath": null,
       "isJsonSchema": true,
       "metadata": {
        "isDbfsCommandResult": false
       },
       "overflow": false,
       "plotOptions": {
        "customPlotOptions": {},
        "displayType": "table",
        "pivotAggregation": null,
        "pivotColumns": null,
        "xColumns": null,
        "yColumns": null
       },
       "removedWidgets": [],
       "schema": [
        {
         "metadata": "{}",
         "name": "path",
         "type": "\"string\""
        },
        {
         "metadata": "{}",
         "name": "name",
         "type": "\"string\""
        },
        {
         "metadata": "{}",
         "name": "size",
         "type": "\"long\""
        },
        {
         "metadata": "{}",
         "name": "modificationTime",
         "type": "\"long\""
        }
       ],
       "type": "table"
      }
     },
     "output_type": "display_data"
    }
   ],
   "source": [
    "%fs\n",
    "ls /FileStore/Committee2\n",
    "\n",
    "\n"
   ]
  }
 ],
 "metadata": {
  "application/vnd.databricks.v1+notebook": {
   "dashboards": [],
   "language": "python",
   "notebookMetadata": {
    "mostRecentlyExecutedCommandWithImplicitDF": {
     "commandId": 3107642495172333,
     "dataframes": [
      "_sqldf"
     ]
    },
    "pythonIndentUnit": 4
   },
   "notebookName": "Global Code to be run on files",
   "widgets": {}
  }
 },
 "nbformat": 4,
 "nbformat_minor": 0
}
